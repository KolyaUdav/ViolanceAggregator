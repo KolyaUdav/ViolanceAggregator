{
 "cells": [
  {
   "cell_type": "code",
   "execution_count": 1,
   "metadata": {},
   "outputs": [],
   "source": [
    "import json\n",
    "import matplotlib.pyplot as plt"
   ]
  },
  {
   "cell_type": "code",
   "execution_count": 2,
   "metadata": {},
   "outputs": [],
   "source": [
    "with open('../json/бабичи.json', 'r') as json_file:\n",
    "    dict_json_data = json.load(json_file)"
   ]
  },
  {
   "cell_type": "code",
   "execution_count": 3,
   "metadata": {},
   "outputs": [],
   "source": [
    "VIOLANCED_ANSWER_OPTIONS = ['много раз', 'однажды', 'нет, за год']\n",
    "NOTHING_VIOLANCED = 'никогда'\n",
    "NOT_SURE_VIOLANCED = 'не уверен'"
   ]
  },
  {
   "cell_type": "code",
   "execution_count": 8,
   "metadata": {},
   "outputs": [],
   "source": [
    "spec_info_dict = {}\n",
    "raw_categ_info_dict = {}\n",
    "\n",
    "for key, value in dict_json_data.items():\n",
    "    spec_info_dict[key] = value['specific']\n",
    "    raw_categ_info_dict[key] = value['categories']"
   ]
  },
  {
   "cell_type": "code",
   "execution_count": 5,
   "metadata": {},
   "outputs": [
    {
     "name": "stdout",
     "output_type": "stream",
     "text": [
      "{'Средовое окружение': {'много раз': 12, 'однажды': 0, 'нет, за год': 4}, 'Пренебрежение нуждами ребёнка': {'много раз': 4, 'однажды': 0, 'нет, за год': 0}, 'Физическое насилие дома': {'много раз': 0, 'однажды': 0, 'нет, за год': 0}, 'Физическое насилие в школе': {'много раз': 4, 'однажды': 4, 'нет, за год': 4}, 'Психологическое насилие дома': {'много раз': 4, 'однажды': 19, 'нет, за год': 0}, 'Психологическое насилие в школе': {'много раз': 23, 'однажды': 23, 'нет, за год': 0}, 'Сексуальное насилие дома': {'много раз': 0, 'однажды': 15, 'нет, за год': 0}, 'Сексуальное насилие в школе': {'много раз': 4, 'однажды': 12, 'нет, за год': 12}}\n"
     ]
    }
   ],
   "source": [
    "calculated_data_dict = {}\n",
    "\n",
    "for key, value in raw_categ_info_dict.items():\n",
    "    for ct_key, ct_value in value.items():\n",
    "        if ct_key not in calculated_data_dict.keys():\n",
    "            calculated_data_dict[ct_key] = {}\n",
    "            \n",
    "        for v_option in VIOLANCED_ANSWER_OPTIONS:\n",
    "            if v_option not in calculated_data_dict[ct_key].keys():\n",
    "                calculated_data_dict[ct_key][v_option] = 0\n",
    "            \n",
    "            if v_option in ct_value:\n",
    "                calculated_data_dict[ct_key][v_option] += 1\n",
    "                break\n",
    "        \n",
    "violanced_proc_dict = {}\n",
    "        \n",
    "for d_key, d_values in calculated_data_dict.items():\n",
    "    v_sum = 0\n",
    "    proc_option_dict = {}\n",
    "    \n",
    "    for v_item_key, v_item_value in d_values.items():\n",
    "        #v_sum += v_item_value\n",
    "        #print(v_item_value)\n",
    "        proc_option_dict[v_item_key] = round(v_item_value / len(spec_info_dict) * 100)\n",
    "    violanced_proc_dict[d_key] = proc_option_dict\n",
    "\n",
    "print(violanced_proc_dict)\n",
    "        \n",
    "        "
   ]
  },
  {
   "cell_type": "code",
   "execution_count": null,
   "metadata": {},
   "outputs": [],
   "source": []
  },
  {
   "cell_type": "code",
   "execution_count": null,
   "metadata": {},
   "outputs": [],
   "source": []
  }
 ],
 "metadata": {
  "kernelspec": {
   "display_name": "Python 3",
   "language": "python",
   "name": "python3"
  },
  "language_info": {
   "codemirror_mode": {
    "name": "ipython",
    "version": 3
   },
   "file_extension": ".py",
   "mimetype": "text/x-python",
   "name": "python",
   "nbconvert_exporter": "python",
   "pygments_lexer": "ipython3",
   "version": "3.7.2"
  }
 },
 "nbformat": 4,
 "nbformat_minor": 2
}
